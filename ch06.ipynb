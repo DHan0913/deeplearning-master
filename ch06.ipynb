{
 "cells": [
  {
   "cell_type": "markdown",
   "id": "14f3d9bb",
   "metadata": {},
   "source": [
    "# 6장. 로지스틱 회귀 모델: 참 거짓 판단하기"
   ]
  },
  {
   "cell_type": "markdown",
   "id": "9ebeab00",
   "metadata": {},
   "source": [
    "[<img src=\"https://raw.githubusercontent.com/taehojo/taehojo.github.io/master/assets/images/linktocolab.png\" align=\"left\"/> ](https://colab.research.google.com/github/taehojo/deeplearning/blob/master/colab/ch06-colab.ipynb)"
   ]
  },
  {
   "cell_type": "markdown",
   "id": "31aa0af8",
   "metadata": {},
   "source": [
    "## 5. 텐서플로에서 실행하는 로지스틱 회귀 모델"
   ]
  },
  {
   "cell_type": "markdown",
   "id": "3bd0ceed",
   "metadata": {},
   "source": [
    "### 1.환경 준비"
   ]
  },
  {
   "cell_type": "code",
   "execution_count": 3,
   "id": "38ce6ac5",
   "metadata": {},
   "outputs": [],
   "source": [
    "import numpy as np\n",
    "import matplotlib.pyplot as plt\n",
    "from tensorflow.keras.models import Sequential\n",
    "from tensorflow.keras.layers import Input, Dense"
   ]
  },
  {
   "cell_type": "markdown",
   "id": "00f9c412",
   "metadata": {},
   "source": [
    "### 2. 데이터 준비"
   ]
  },
  {
   "cell_type": "code",
   "execution_count": 4,
   "id": "92e915e0",
   "metadata": {},
   "outputs": [],
   "source": [
    "x = np.array([2, 4, 6, 8, 10, 12, 14])\n",
    "y = np.array([0, 0, 0, 1, 1, 1, 1]) "
   ]
  },
  {
   "cell_type": "markdown",
   "id": "605e6ad0",
   "metadata": {},
   "source": [
    "### 3. 모델 실행"
   ]
  },
  {
   "cell_type": "code",
   "execution_count": 8,
   "id": "f2735f67",
   "metadata": {},
   "outputs": [],
   "source": [
    "model = Sequential()\n",
    "\n",
    "model.add(Input(shape=(1,)))\n",
    "model.add(Dense(1, activation='sigmoid'))\n",
    "\n",
    "# 이진 분류 손실 함수 - binary crossenntropy\n",
    "# 교차 엔트로피 오차 함수를 이용하기 위하여 'binary_crossentropy'로 설정합니다. \n",
    "model.compile(optimizer='sgd' ,loss='binary_crossentropy')\n",
    "\n",
    "history = model.fit(x, y, epochs=5000, verbose=0)"
   ]
  },
  {
   "cell_type": "code",
   "execution_count": 15,
   "id": "91f1290a",
   "metadata": {},
   "outputs": [
    {
     "name": "stdout",
     "output_type": "stream",
     "text": [
      "Epoch: 1, loss:1.580230712890625\n",
      "Epoch: 101, loss:0.5107036828994751\n",
      "Epoch: 201, loss:0.48862454295158386\n",
      "Epoch: 301, loss:0.46833276748657227\n",
      "Epoch: 401, loss:0.44967058300971985\n",
      "Epoch: 501, loss:0.43249019980430603\n",
      "Epoch: 601, loss:0.4166543781757355\n",
      "Epoch: 701, loss:0.4020371437072754\n",
      "Epoch: 801, loss:0.38852331042289734\n",
      "Epoch: 901, loss:0.3760087192058563\n",
      "Epoch: 1001, loss:0.3643989562988281\n",
      "Epoch: 1101, loss:0.35360926389694214\n",
      "Epoch: 1201, loss:0.3435634970664978\n",
      "Epoch: 1301, loss:0.3341931402683258\n",
      "Epoch: 1401, loss:0.32543686032295227\n",
      "Epoch: 1501, loss:0.31723982095718384\n",
      "Epoch: 1601, loss:0.30955272912979126\n",
      "Epoch: 1701, loss:0.30233141779899597\n",
      "Epoch: 1801, loss:0.29553622007369995\n",
      "Epoch: 1901, loss:0.28913143277168274\n",
      "Epoch: 2001, loss:0.28308552503585815\n",
      "Epoch: 2101, loss:0.27736929059028625\n",
      "Epoch: 2201, loss:0.2719568908214569\n",
      "Epoch: 2301, loss:0.26682478189468384\n",
      "Epoch: 2401, loss:0.2619516849517822\n",
      "Epoch: 2501, loss:0.257318377494812\n",
      "Epoch: 2601, loss:0.2529074251651764\n",
      "Epoch: 2701, loss:0.2487030178308487\n",
      "Epoch: 2801, loss:0.24469073116779327\n",
      "Epoch: 2901, loss:0.24085736274719238\n",
      "Epoch: 3001, loss:0.23719088733196259\n",
      "Epoch: 3101, loss:0.2336803823709488\n",
      "Epoch: 3201, loss:0.23031561076641083\n",
      "Epoch: 3301, loss:0.22708760201931\n",
      "Epoch: 3401, loss:0.22398774325847626\n",
      "Epoch: 3501, loss:0.2210083156824112\n",
      "Epoch: 3601, loss:0.21814201772212982\n",
      "Epoch: 3701, loss:0.21538223326206207\n",
      "Epoch: 3801, loss:0.21272294223308563\n",
      "Epoch: 3901, loss:0.2101583182811737\n",
      "Epoch: 4001, loss:0.20768319070339203\n",
      "Epoch: 4101, loss:0.20529267191886902\n",
      "Epoch: 4201, loss:0.20298229157924652\n",
      "Epoch: 4301, loss:0.20074772834777832\n",
      "Epoch: 4401, loss:0.19858510792255402\n",
      "Epoch: 4501, loss:0.1964907944202423\n",
      "Epoch: 4601, loss:0.1944613754749298\n",
      "Epoch: 4701, loss:0.19249367713928223\n",
      "Epoch: 4801, loss:0.1905846744775772\n",
      "Epoch: 4901, loss:0.18873165547847748\n",
      "Epoch: 5000, loss:0.18694965541362762\n"
     ]
    }
   ],
   "source": [
    "for epoch, loss in enumerate(history.history['loss']):\n",
    "    if epoch % 100 == 0:\n",
    "        print(f\"Epoch: {epoch + 1}, loss:{loss}\")\n",
    "else:\n",
    "    print(f\"Epoch: {epoch + 1}, loss:{loss}\")"
   ]
  },
  {
   "cell_type": "markdown",
   "id": "514ecfcd",
   "metadata": {},
   "source": [
    "### 4. 모델 테스트"
   ]
  },
  {
   "cell_type": "code",
   "execution_count": 16,
   "id": "669c2350",
   "metadata": {},
   "outputs": [
    {
     "name": "stdout",
     "output_type": "stream",
     "text": [
      "1/1 [==============================] - 0s 63ms/step\n"
     ]
    },
    {
     "data": {
      "image/png": "[encoded data removed]",
      "text/plain": [
       "<Figure size 640x480 with 1 Axes>"
      ]
     },
     "metadata": {},
     "output_type": "display_data"
    }
   ],
   "source": [
    "#그래프로 확인해 봅니다.\n",
    "\n",
    "plt.scatter(x, y)\n",
    "plt.plot(x, model.predict(x),'r')\n",
    "plt.show()"
   ]
  },
  {
   "cell_type": "code",
   "execution_count": 22,
   "id": "e4b6209f",
   "metadata": {},
   "outputs": [
    {
     "name": "stdout",
     "output_type": "stream",
     "text": [
      "1/1 [==============================] - 0s 30ms/step\n",
      "7시간을 공부할 경우, 합격 예상 확률은 59.6%입니다\n"
     ]
    }
   ],
   "source": [
    "#임의의 학습시간을 집어넣어 합격 예상 확률을 예측해 보겠습니다.\n",
    "\n",
    "hour = 7\n",
    "prediction = model.predict([hour])\n",
    "\n",
    "print(\"%.f시간을 공부할 경우, 합격 예상 확률은 %.01f%%입니다\" % (hour, prediction * 100))"
   ]
  },
  {
   "cell_type": "code",
   "execution_count": null,
   "id": "bcffd088",
   "metadata": {},
   "outputs": [],
   "source": []
  }
 ],
 "metadata": {
  "kernelspec": {
   "display_name": "Python 3 (ipykernel)",
   "language": "python",
   "name": "python3"
  },
  "language_info": {
   "codemirror_mode": {
    "name": "ipython",
    "version": 3
   },
   "file_extension": ".py",
   "mimetype": "text/x-python",
   "name": "python",
   "nbconvert_exporter": "python",
   "pygments_lexer": "ipython3",
   "version": "3.10.9"
  }
 },
 "nbformat": 4,
 "nbformat_minor": 5
}
